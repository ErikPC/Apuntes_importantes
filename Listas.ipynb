{
 "cells": [
  {
   "cell_type": "markdown",
   "metadata": {},
   "source": [
    "# Listas"
   ]
  },
  {
   "cell_type": "markdown",
   "metadata": {},
   "source": [
    "### Descripcion\n",
    "Las listas pueden contener cualquier tipo de objeto: numeero , string o mas listas. Pueden ser modificadas.\n",
    "\n",
    "Las listas de python hacen el trabajo de muchas estructuras de datos de coleccion que podría tener que implementar manualmente en lenguajes de nivel inferior como C.\n",
    "\n",
    "### Caracteristicas\n",
    "\n",
    "Colecciones ordenadas de objetos arbitrarios\n",
    "\n",
    "Accedido por compensación\n",
    "\n",
    "Logitud variable, heterogénea y arbitrariamente encajable\n",
    "    las listas pueden crecer y encogerse en su lugar\n",
    "\n"
   ]
  },
  {
   "cell_type": "code",
   "execution_count": 16,
   "metadata": {},
   "outputs": [
    {
     "name": "stdout",
     "output_type": "stream",
     "text": [
      "['s', 'p', 'a', 'm', 's', 'p', 'a', 'm']\n"
     ]
    },
    {
     "ename": "TypeError",
     "evalue": "index expected at least 1 argument, got 0",
     "output_type": "error",
     "traceback": [
      "\u001b[1;31m---------------------------------------------------------------------------\u001b[0m",
      "\u001b[1;31mTypeError\u001b[0m                                 Traceback (most recent call last)",
      "\u001b[1;32m~\\AppData\\Local\\Temp/ipykernel_10872/743099373.py\u001b[0m in \u001b[0;36m<module>\u001b[1;34m\u001b[0m\n\u001b[0;32m     15\u001b[0m \u001b[1;33m\u001b[0m\u001b[0m\n\u001b[0;32m     16\u001b[0m \u001b[1;31m# Se puede buscar en la lista\u001b[0m\u001b[1;33m\u001b[0m\u001b[1;33m\u001b[0m\u001b[0m\n\u001b[1;32m---> 17\u001b[1;33m \u001b[0mL\u001b[0m\u001b[1;33m.\u001b[0m\u001b[0mindex\u001b[0m\u001b[1;33m(\u001b[0m\u001b[1;33m)\u001b[0m\u001b[1;33m\u001b[0m\u001b[1;33m\u001b[0m\u001b[0m\n\u001b[0m\u001b[0;32m     18\u001b[0m \u001b[1;33m\u001b[0m\u001b[0m\n\u001b[0;32m     19\u001b[0m \u001b[1;31m# Ordena y invierte la lista\u001b[0m\u001b[1;33m\u001b[0m\u001b[1;33m\u001b[0m\u001b[0m\n",
      "\u001b[1;31mTypeError\u001b[0m: index expected at least 1 argument, got 0"
     ]
    }
   ],
   "source": [
    "# Una lista vacía\n",
    "L = []\n",
    "\n",
    "# Sublistas\n",
    "L = ['Bob', 40.0, ['dev', 'mgr']]\n",
    "\n",
    "# Lista de iterable items\n",
    "L = list('spam')\n",
    "\n",
    "# Se pueden concatenar y repetir\n",
    "print (L + L)\n",
    "\n",
    "# Se pueden añadir items a la lista ya creada\n",
    "L.append(4)\n",
    "\n",
    "# Se puede buscar en la lista\n",
    "L.index()\n",
    "\n",
    "# Ordena y invierte la lista\n",
    "L.sort()\n",
    "\n",
    "# Puedes intercambier items usando indes\n",
    "L[1] = 3\n",
    "\n",
    "# las listas pueden entender comprensiones\n",
    "L = [x**2 for x in range(5)]"
   ]
  },
  {
   "cell_type": "markdown",
   "metadata": {},
   "source": [
    "## Lista de operaciones basicas\n",
    "\n",
    "Debido a que son secuencias, las listas admites muchas de las mismas operaciones de las strings. + ans * operators.\n",
    "\n",
    "Espera el mismo tipo de secuencia en ambos lados.\n",
    "\n",
    "## Indexing, Slicing, and Matrixes\n",
    "\n",
    "Offset empieza en cero, Numeros negativos cuentan desde la derecha.\n",
    "representar matrices (matrices multidimensionales), sublistas anidadas \n",
    "\n",
    "## Cambio de listas en su lugar\n",
    "\n",
    "Las listas son mutables, se pueden cmabiar de lugar los objetos de la lista. Sin tener que hacer una nueva copia\n",
    "\n",
    "### Indicie y particiones asignadas\n",
    "\n",
    "Puedes intercambier por indice \n",
    "Ej: \n",
    ">>> L = ['spam', 'eggs', 'bacon']\n",
    ">>> L[1] = 'sausage'\n",
    ">>> L ['spam', 'sausage', 'bacon']\n",
    "\n",
    "### Metodos de llamar a listas\n",
    "\n",
    "Puedes añadir mas items  a la lista al final de la lista\n",
    ">>> L.append('please)\n",
    "Puedes reordenar la lista\n",
    ">>> L.sort()\n",
    "\n",
    "Hay funciones (en realidad, atributos de objeto que hacen referencia a funciones) que actuan sobre objetos particulares.\n",
    "\n",
    "### Mas en clasificacion de listas\n",
    "\n",
    "sorting a diferencia de la concatenacion +, append no tiene porque generar nuevos opbjetos , por lo que sueke ser más rápido que + tambien\n",
    "\n",
    "El argumento reverse permite que las clases se hagan en forma descendente en lugar de ascendente argumento key\n"
   ]
  },
  {
   "cell_type": "code",
   "execution_count": null,
   "metadata": {},
   "outputs": [
    {
     "name": "stdout",
     "output_type": "stream",
     "text": [
      "['abc', 'ABD', 'aBe']\n",
      "['ABD', 'aBe', 'abc']\n",
      "['abc', 'ABD', 'aBe']\n",
      "['aBe', 'ABD', 'abc']\n"
     ]
    }
   ],
   "source": [
    "L = ['abc', 'ABD', 'aBe']\n",
    "print(L)\n",
    "L.sort()\n",
    "print(L)\n",
    "L.sort(key=str.lower)\n",
    "print(L)\n",
    "L.sort(key=str.lower, reverse=True)\n",
    "print(L)"
   ]
  },
  {
   "cell_type": "markdown",
   "metadata": {},
   "source": [
    "### Otros metodos comunes de listas"
   ]
  },
  {
   "cell_type": "code",
   "execution_count": null,
   "metadata": {},
   "outputs": [
    {
     "name": "stdout",
     "output_type": "stream",
     "text": [
      "[1, 8, 3, 9, 5]\n",
      "[1, 8, 3, 9]\n",
      "[9, 3, 8, 1]\n"
     ]
    }
   ],
   "source": [
    "L = [1, 8]\n",
    "L.extend([3,9,5])\n",
    "print(L)\n",
    "# Añademas items al final\n",
    "L.pop()\n",
    "# Elimina y devuelve el ultimo item\n",
    "print(L)\n",
    "L.reverse()\n",
    "print(L)\n",
    "# invierte la lista"
   ]
  },
  {
   "cell_type": "markdown",
   "metadata": {},
   "source": [
    "extend siempre itera y agraga cada elemento en un objeto iterable, mmientras que append , siemplemente agrega un solo elemento sin iterar.\n",
    "\n",
    "El metodo pop se usa a menudo junto con append para implementar un último en entrar, primero en salir"
   ]
  },
  {
   "cell_type": "markdown",
   "metadata": {},
   "source": [
    "### Mas metodos de listas para eliminar items y valores"
   ]
  },
  {
   "cell_type": "code",
   "execution_count": null,
   "metadata": {},
   "outputs": [
    {
     "name": "stdout",
     "output_type": "stream",
     "text": [
      "1\n",
      "['spam', 'toast', 'eggs', 'ham']\n",
      "['spam', 'toast', 'ham']\n"
     ]
    }
   ],
   "source": [
    "L = ['spam', 'eggs', 'ham']\n",
    "print (L.index('eggs'))\n",
    "# Te indica en que posicion esta  de la lista\n",
    "L.insert(1, 'toast')\n",
    "print(L)\n",
    "# Añade a la posicion que le indicas lo que quieras añadir\n",
    "# a la lista, L.insert(indice, lo_que_quieras)\n",
    "L.remove('eggs')\n",
    "print(L)\n",
    "# Elimina lo que le hayas metido en el parentesis\n",
    "print (L.count('spam'))\n",
    "# cuenta cuanto ha de lo que le has puesto entre parentesis "
   ]
  },
  {
   "cell_type": "markdown",
   "metadata": {},
   "source": [
    "del enunciado para eliminar un elemento o seccion en lugar"
   ]
  },
  {
   "cell_type": "code",
   "execution_count": null,
   "metadata": {},
   "outputs": [
    {
     "name": "stdout",
     "output_type": "stream",
     "text": [
      "['eggs', 'ham', 'toast']\n",
      "['eggs']\n"
     ]
    }
   ],
   "source": [
    "L = ['spam', 'eggs', 'ham', 'toast']\n",
    "del L[0]\n",
    "print(L)\n",
    "# elimina items de la lista usando el index\n",
    "del L[1:]\n",
    "print(L)\n",
    "# elimina una seccion entera"
   ]
  },
  {
   "cell_type": "markdown",
   "metadata": {},
   "source": [
    "Asignar una lista vacía a un index, por otro lado, simplemente almacena una referencia al objeto de la lista vacía en el especificado espacio, en lugar de eliminar un elemento"
   ]
  }
 ],
 "metadata": {
  "interpreter": {
   "hash": "cfe95937ddb6a1f206f1775878e1083883e3b1339c5afddfa94cac72e064ca5c"
  },
  "kernelspec": {
   "display_name": "Python 3.9.7 64-bit",
   "language": "python",
   "name": "python3"
  },
  "language_info": {
   "codemirror_mode": {
    "name": "ipython",
    "version": 3
   },
   "file_extension": ".py",
   "mimetype": "text/x-python",
   "name": "python",
   "nbconvert_exporter": "python",
   "pygments_lexer": "ipython3",
   "version": "3.9.7"
  },
  "orig_nbformat": 4
 },
 "nbformat": 4,
 "nbformat_minor": 2
}
