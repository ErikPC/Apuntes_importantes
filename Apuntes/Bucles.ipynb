{
 "cells": [
  {
   "cell_type": "markdown",
   "metadata": {},
   "source": [
    "# Bucles\n",
    "\n",
    "## Que son\n",
    "\n",
    "Bucle es un término informa para referirse a ellos.\n",
    "\n",
    "Son una structura de control iterativo. Los que hay son for , while y do-while (in C++ ay java)\n",
    "\n",
    "## Cuando usarlos\n",
    "\n",
    "- While : cuando no con antelacion exactamente cuantas veces quieres que se repita el bucle. Se usa el while.\n",
    "\n",
    "- For: es una buena eleccion cuando necesitas usar un buce un numbero especificado de veces. Usa el bucle \"for\" para actividades simples que no requieran controles de bucle internos.Cuando el control del bucle implique incrementos o decrementos simples.\n",
    "\n",
    "No tienes nada que hacer dentro del bucle para controlarlo. si tiene una condicion bajo la cual la ejecucion tiene que saltar de un bucle, use un bucle while en su lugar.\n",
    "\n",
    "No cambiar explicitamente el valor de un indice de un bucle \"for\" para forzar su finalizacion. Use un bucle while en su lugar.\n",
    "\n"
   ]
  },
  {
   "cell_type": "markdown",
   "metadata": {},
   "source": [
    "## Cado usarlo para cada loop\n",
    "\n",
    "For-in en python útil para realizar una opreacion en cada miembro de una matriz u otro contenedor eliminando cualquier pocibilidad de errores en la aritmetica del mantenimiento del ciclo.\n",
    "\n",
    "## Controlando el Loop\n",
    "\n",
    "### que es lo que esta mal en un loop\n",
    "* inicializacion de bucle incorrecta u omitida.\n",
    "* inicializacion omitida de acumuladores u otras variables relacionadas en el bucle, \n",
    "* anidacion inadecuada, \n",
    "* termnacion incorrecta del bucle.\n",
    "* Olvidar incrementar una variable de ciclo o incrementear la variale incorrectamente\n",
    "* Indexar incorrectamente un elemento de matriz de un índice de bucle.\n",
    "\n",
    "### Para solucionar esto\n",
    "1. Minimizar el numbero de factores que afectan al loop. Simplificar.\n",
    "2. Tratar el interior del bucle como si fuera una rutina; mantener tnto el control como sea posible fuera del ciclo. No hacer que el lector mire dentro del bucle para comprender el control del bucle. Piene en el bucle como un caja negra.\n",
    "\n",
    "### Salir de los bucles\n",
    " El termino se conoce como break\n",
    "\n",
    " * El break declaracion hace que un bucle termine a traves del canal de salida normal; el programa reanuda la ejecucion en la primera instruccion que sigue al ciclo.\n",
    "\n",
    " * Considerar usar declaraciones de break en lugar de indicadores booleanos en un while\n",
    "\n",
    "* usar una ruptura en lugar de una serie de pruebas if\n",
    "\n",
    "* Un bucle contiene muchas interrupciones , puede indicar un pensamiento poco claro sobre la estructura del bucle\n",
    "\n",
    "* Usar una ruptura alimina la posibilidad de tratar un bucle como una caja negra. Limitandote a solo usar un punto de control, la condicion de un bucle es una forma poderosa de simplificar los bucles.\n",
    "\n",
    "* Debido a que no sabe en general si continuar y romper es correcto o incorrecto , usalos, pero solo con el temor de estar equivocado.\n",
    "\n"
   ]
  }
 ],
 "metadata": {
  "language_info": {
   "name": "python"
  },
  "orig_nbformat": 4
 },
 "nbformat": 4,
 "nbformat_minor": 2
}
