{
 "cells": [
  {
   "cell_type": "markdown",
   "metadata": {},
   "source": [
    "# Uso de condicionales\n",
    "\n",
    "Un condicional es una declaración que controla la ejecución de otras declaraciones; if, else, case, and switch.\n",
    "\n",
    "# Declaraciones sencillas. if-then (si-entonces)\n",
    "\n",
    "Se escribe primero la ruta nominar a través del código; luego escribe los casos inusuales\n",
    "\n",
    "- Escribe tu codigo para que la ruta normal a través del código sea clara."
   ]
  }
 ],
 "metadata": {
  "language_info": {
   "name": "python"
  },
  "orig_nbformat": 4
 },
 "nbformat": 4,
 "nbformat_minor": 2
}
