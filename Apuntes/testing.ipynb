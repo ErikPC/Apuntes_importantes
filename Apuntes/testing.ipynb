{
 "cells": [
  {
   "cell_type": "markdown",
   "metadata": {},
   "source": [
    "# Developer Testing"
   ]
  },
  {
   "cell_type": "markdown",
   "metadata": {},
   "source": [
    "Tipos de testing\n",
    "- unit testing: testear una clase, rutina o pequeño programa.para un programador , testearlo de forma aislada del sistema más completo\n",
    "- Component testing: múltiples programadores o equipos de programacion, que se prueba de forma aislada del sistema más completo.\n",
    "- Integration testing: ejecicion combinada de dos o más clases , paquetes, componentes o subsistemas."
   ]
  },
  {
   "cell_type": "markdown",
   "metadata": {},
   "source": [
    "\"Black-box testing\" : se refiere a las pruebas en las que el evaluador no puede ver el funcionamiento interno del elemento que está probando \n",
    "\n",
    "\"White-box testing\" : se refiere a las pruebas en las que el probador es consciente del funcionamiento interno del elemento que se está probando"
   ]
  },
  {
   "cell_type": "markdown",
   "metadata": {},
   "source": [
    "Las pruebas son un medio para detectar errores. La depuracion es un medio para diagnosticar y corregir las causas raíz de los errores."
   ]
  },
  {
   "cell_type": "markdown",
   "metadata": {},
   "source": [
    "No solo testees más, dessarrolla mejor "
   ]
  },
  {
   "cell_type": "markdown",
   "metadata": {},
   "source": [
    "Planifica los casos test para este paso en la etapa de requisitos o lo antes posible, preferiblemente antes de comezar a escribir la unidad la unidad que se va a probrar ( Que hagas casos test antes que escribir el programa)"
   ]
  },
  {
   "cell_type": "markdown",
   "metadata": {},
   "source": [
    "Planifica probrar y encontrar defectos lo antes posible porque es mas barato reparar los defectos temprano"
   ]
  },
  {
   "cell_type": "markdown",
   "metadata": {},
   "source": [
    "Los desarrolladores tieneden a testear si el codifo funciona (pruebas limpias) en lugar de todas las formas en las que se rompe el códido(pruebas susias)"
   ]
  }
 ],
 "metadata": {
  "language_info": {
   "name": "python"
  },
  "orig_nbformat": 4
 },
 "nbformat": 4,
 "nbformat_minor": 2
}
