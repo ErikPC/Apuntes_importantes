{
 "cells": [
  {
   "cell_type": "markdown",
   "metadata": {},
   "source": [
    "# Diccionarios\n",
    "\n",
    "#### Qué son\n",
    "Los diccionarios son uno de los tipos de datos integrados más flexibles en Python. Son colecciones desordenadas, sus elementos se almacenan y optienen por clave, en lugar de por desplazamiento posicional.En un diccionario , es más importante el nombre de los elementos que la posicion de los mismos.\n",
    "\n",
    "Los diccionarios pueden reemplazar muchos de los algortimos de busqueda y estructuras de datos. Es posible que tenga que implementar manualmente en lenguajes de nivel inferior.\n",
    "\n",
    "#### Se accede por llave , no por posicion de compensación\n",
    "\n",
    "Matrices asociativas o hashes\n",
    "\n",
    "#### Colecciones desordenadas de objetos arbitrarios\n",
    "\n",
    "Python pseudoaleatoriza su orden de izquierda a derecha para proporcionar una búsqueda rápida.Las key proporcionan las ubicaciones simbolicas , no las fisicas.\n",
    "\n",
    "#### longitud variable , heterogénea y arbitrariamente encajable\n",
    "\n",
    "Pueden contener objetos de cualquier tipo y admiten el anidamiento de cualquier rofundidad.\n",
    "\n",
    "#### \"mutable mapping\"\n",
    "\n",
    "Cambiar diccionarios en su lugar. Dado que los diccionarios son solecciones desordenadas, las operaciones dependen de un orden , el orden posicional(concatenacion , segmentación) no tienen sentido.\n",
    "\n",
    "#### Tablas de referencias a objetos (tablas hash)\n",
    "\n",
    "Si las listas son matrices de referencuas de objetis que admiten el acceso por posicion , los diccionarios son tablas desordenadas de referencias de objetos que admiten el acceso por clave, implementado como tablas hash (estructurad de datos que admiten una recuperacion miuy rápida de los datos).\n",
    "\n",
    "## Operaciones y literales de diccionario comunes"
   ]
  },
  {
   "cell_type": "code",
   "execution_count": 3,
   "metadata": {},
   "outputs": [
    {
     "data": {
      "text/plain": [
       "True"
      ]
     },
     "execution_count": 3,
     "metadata": {},
     "output_type": "execute_result"
    }
   ],
   "source": [
    "D = {} \n",
    "# Diccionario vacío\n",
    "D = {'name': 'Bob', 'age' : '40'}\n",
    "# Diccionario con dos items\n",
    "E = {'cto':{'name':'Bob', 'age': '40'}}\n",
    "# Anidado\n",
    "D = dict(name = 'Bob' , age = '40')\n",
    "# forma alternativa de crear un diccionario.\n",
    "D = dict([('name', 'Bob'),('age', 40)])\n",
    "# Palabras clave, pares clave / valor, pares clave / valor comprimidos, listas de claves\n",
    "D['name']\n",
    "E['cto']['age']\n",
    "# Indexado poy clave\n",
    "'age' in D\n",
    "# comprobar que hay esa key"
   ]
  }
 ],
 "metadata": {
  "interpreter": {
   "hash": "cfe95937ddb6a1f206f1775878e1083883e3b1339c5afddfa94cac72e064ca5c"
  },
  "kernelspec": {
   "display_name": "Python 3.9.7 64-bit",
   "language": "python",
   "name": "python3"
  },
  "language_info": {
   "codemirror_mode": {
    "name": "ipython",
    "version": 3
   },
   "file_extension": ".py",
   "mimetype": "text/x-python",
   "name": "python",
   "nbconvert_exporter": "python",
   "pygments_lexer": "ipython3",
   "version": "3.9.7"
  },
  "orig_nbformat": 4
 },
 "nbformat": 4,
 "nbformat_minor": 2
}
