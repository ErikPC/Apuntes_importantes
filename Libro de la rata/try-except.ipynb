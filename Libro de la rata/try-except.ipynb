{
 "cells": [
  {
   "cell_type": "markdown",
   "metadata": {},
   "source": [
    "# Ejemplo try-except\n",
    "\n",
    "A continuación, se muestra una demostración de cómo funciona el formulario de prueba combinada.\n",
    "El siguiente archivo,mergedexc.py, codifica cuatro escenarios comunes, con declaraciones impresas que describen el significado de cada uno:"
   ]
  },
  {
   "cell_type": "code",
   "execution_count": 1,
   "metadata": {},
   "outputs": [
    {
     "name": "stdout",
     "output_type": "stream",
     "text": [
      "---------------------------------------------\n",
      "\n"
     ]
    }
   ],
   "source": [
    "# File mergecexc.py (python 3.X + 2.x)\n",
    "\n",
    "sep = '-' * 45 + '\\n'\n",
    "\n",
    "print(sep + 'Exception raised and caugth')\n"
   ]
  }
 ],
 "metadata": {
  "interpreter": {
   "hash": "cfe95937ddb6a1f206f1775878e1083883e3b1339c5afddfa94cac72e064ca5c"
  },
  "kernelspec": {
   "display_name": "Python 3.9.7 64-bit",
   "language": "python",
   "name": "python3"
  },
  "language_info": {
   "codemirror_mode": {
    "name": "ipython",
    "version": 3
   },
   "file_extension": ".py",
   "mimetype": "text/x-python",
   "name": "python",
   "nbconvert_exporter": "python",
   "pygments_lexer": "ipython3",
   "version": "3.9.7"
  },
  "orig_nbformat": 4
 },
 "nbformat": 4,
 "nbformat_minor": 2
}
