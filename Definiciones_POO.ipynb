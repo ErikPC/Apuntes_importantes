{
 "cells": [
  {
   "cell_type": "markdown",
   "metadata": {},
   "source": [
    "Esta informacion ha sido saca del README del repositorio dilded-rose-kata-java del usuario[@dfleta](https://github.com/dfleta)"
   ]
  },
  {
   "cell_type": "markdown",
   "metadata": {},
   "source": [
    "### Que es la refactorización\n",
    "\n",
    "Martin Fowler define la téncica de refactorizacion como:\n",
    "\n",
    "*traducido a español*\n",
    "\n",
    "\"un cambio realizado en la estructura interna del software para que sea más fácil de entender y más económico de modificar sin cambiar su comportamiento observable\"\n",
    "\n",
    "*Es,sin duda, la frase que aprendida de momeoria más salud y felicidad reportará a tu vida*\n",
    "-@dfleta-\n",
    "\n",
    "Para evitar la complejidad profocada por los \"if-else\" anidados y sus opradores correspondientes operadores lógicos vamos a utilizar polimofismo o el **Principio de Substitucion de Liskov(LSP)** de los principios SOLID."
   ]
  },
  {
   "cell_type": "markdown",
   "metadata": {},
   "source": [
    "### Conceptos de Programacion Orientada a Objetos\n",
    "\n",
    "- Abstraccion: exponer solo los detalles esenciales.\n",
    "- Encapsulamiento: agrupar datos + las operaciones de estos datos => DAT o tipo de dato abstracto(Data Abstract Type).\n",
    "- Herencia: derivar un DAT de otro.\n",
    "- Ocultar informacion: ocultar detalles de implementacion que se pueden cambiar.\n",
    "- Polimorfismo: una entidad soporta diferentes significados en diferentes contextos\n",
    "    - Coercitivo: cast de tipos.\n",
    "    - De inclusion: herencia y sobreescritura (de metodos).\n",
    "    - De sobrecarga: (de metodos).\n",
    "    - Paramético: generics de Java"
   ]
  },
  {
   "cell_type": "markdown",
   "metadata": {},
   "source": [
    "#### DAT\n",
    "[Code complete cap 6 ADts](https://github.com/ErikPC/Apuntes_importantes/blob/programacion/Code%20complete/Working%20classes.ipynb)."
   ]
  },
  {
   "cell_type": "markdown",
   "metadata": {},
   "source": [
    "#### LSP - SOLID\n",
    "\n",
    "El principio de Substitucion de Liskov (LSP) de los principios de SOLID\n",
    "\n",
    "L de SOLID = Princpio de Substitucion de Liskov\n",
    "\n",
    "Principio de Substitucion de Liskov = si S es un subtipo de T, entonces los objetos de tipo T en un programa de computadora pueden ser sustituidos por objetos de tipo S (es decir, los objetos de tipo S pueden sustituir objetos de tipo T), sin alterar ninguna de las propiedades deseables de ese programa.\n",
    "\n",
    "*Un tipo de dato abstracto se implemta escribiento una clase especial de programa que define el tipo de términos de las operaciones que pueden ser realizadas sobre el*. Esta es la interpretacion del duck typing.\n",
    "\n",
    "*Los subtipos deben ser substituibles por sus tipos básicos*. Martin C.Robert.\n",
    "\n",
    "*Se acepta normalmente que los objetos deber ser modificados unicamente a través de sus métodos (Encapsulamiento). Como los subtipos pueden introducir  nuevos métodos, ausentes en el supertipo. La restriccion histórica impide este tipo de modificaciones.*\n"
   ]
  }
 ],
 "metadata": {
  "language_info": {
   "name": "python"
  },
  "orig_nbformat": 4
 },
 "nbformat": 4,
 "nbformat_minor": 2
}
