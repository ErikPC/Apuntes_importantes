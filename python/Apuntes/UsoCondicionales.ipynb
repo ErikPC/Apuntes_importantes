{
 "cells": [
  {
   "cell_type": "markdown",
   "metadata": {},
   "source": [
    "# Uso de condicionales\n",
    "\n",
    "Un condicional es una declaración que controla la ejecución de otras declaraciones; if, else, case, and switch.\n",
    "\n",
    "# Declaraciones sencillas. if-then (si-entonces)\n",
    "\n",
    "Se escribe primero la ruta nominar a través del código; luego escribe los casos inusuales\n",
    "\n",
    "- Escribe tu codigo para que la ruta normal a través del código sea clara.\n",
    "    - Asegurese de que los casos raros no oscurezcan la ruta normal de ejecución"
   ]
  },
  {
   "cell_type": "markdown",
   "metadata": {},
   "source": [
    "Pon el caso normal en lugar del else\n",
    "- Pon el caso que normalmente espera procesar primero poniendo el codigo que resulta de una decision lo más cerca posible de la decisión"
   ]
  },
  {
   "cell_type": "markdown",
   "metadata": {},
   "source": [
    "Hay que simplificar las pruebas complicadas con llamadas a funciones booleanas"
   ]
  },
  {
   "cell_type": "markdown",
   "metadata": {},
   "source": [
    "Poner los casos más comunes primero\n",
    "- minimizar la cantidad de código de manejo de casos de excepcion que alguien tiene que leer\n",
    "- mejorar la eficiencia porque minimiza la cantidad de pruebas que hace el código para encontrar los casos más comunes"
   ]
  },
  {
   "cell_type": "markdown",
   "metadata": {},
   "source": [
    "Asegurar que todos los casos estan cubiertos.\n",
    "- Codifica una clausula else final con un mensaje de error o una afirmacion para detectar los casos que no han sido planeados."
   ]
  },
  {
   "cell_type": "markdown",
   "metadata": {},
   "source": [
    "Reemplaza las cadenas if-then-else con otras contrucciones si su lenguaje las admite\n",
    "\n",
    "- Si los casos son igualmente importantes, ponerlos en orden del abecedario, mejorla la legibilidad\n",
    "- Pone el caso normal primero\n",
    "- comenta\n",
    "- Los lectores humanos ppueden encontrar fácilmente los casos más comunes. "
   ]
  }
 ],
 "metadata": {
  "language_info": {
   "name": "python"
  },
  "orig_nbformat": 4
 },
 "nbformat": 4,
 "nbformat_minor": 2
}
