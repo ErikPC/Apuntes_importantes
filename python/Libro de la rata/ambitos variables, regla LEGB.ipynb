{
 "cells": [
  {
   "cell_type": "markdown",
   "metadata": {},
   "source": [
    "# Actividades\n",
    "\n",
    "***global*** declara que la variable tiene entorno global, permitendonos usar una variable afuera y dentro de esa funcion."
   ]
  },
  {
   "cell_type": "code",
   "execution_count": 1,
   "metadata": {},
   "outputs": [
    {
     "name": "stdout",
     "output_type": "stream",
     "text": [
      "88\n",
      "99\n"
     ]
    }
   ],
   "source": [
    "spam = 88\n",
    "\n",
    "def func():\n",
    "\tglobal spam\n",
    "\tspam = 99\n",
    "\n",
    "func()\n",
    "print(spam)"
   ]
  },
  {
   "cell_type": "markdown",
   "metadata": {},
   "source": [
    "*LEGB rule* Las variables que se marcan de forma global siempre se pueden referenciar."
   ]
  },
  {
   "cell_type": "code",
   "execution_count": 2,
   "metadata": {},
   "outputs": [
    {
     "name": "stdout",
     "output_type": "stream",
     "text": [
      "3\n"
     ]
    }
   ],
   "source": [
    "y, z =1,2\n",
    "\n",
    "def all_global():\n",
    "\tglobal bacon\n",
    "\tbacon = y + z\n",
    "\n",
    "all_global()\n",
    "print(bacon)"
   ]
  },
  {
   "cell_type": "markdown",
   "metadata": {},
   "source": [
    "# Entornos anidados\n",
    "Se cojen las referencias del entorno mas cercano"
   ]
  },
  {
   "cell_type": "code",
   "execution_count": 3,
   "metadata": {},
   "outputs": [
    {
     "name": "stdout",
     "output_type": "stream",
     "text": [
      "88\n"
     ]
    }
   ],
   "source": [
    "sausage = 99\n",
    "\n",
    "def f1():\n",
    "\tsausage = 88\n",
    "\tdef f2():\n",
    "\t\tprint(sausage)\n",
    "\tf2()\n",
    "\n",
    "f1()"
   ]
  },
  {
   "cell_type": "markdown",
   "metadata": {},
   "source": [
    "# Funciones\n",
    "Las funciones recuerdan los entornos en que han sido creadas , de forma que en el primer ejemplo f2 se acuerda que X=88"
   ]
  },
  {
   "cell_type": "code",
   "execution_count": 4,
   "metadata": {},
   "outputs": [
    {
     "name": "stdout",
     "output_type": "stream",
     "text": [
      "88\n"
     ]
    }
   ],
   "source": [
    "def f1():\n",
    "    eggs = 88\n",
    "\n",
    "    def f2():\n",
    "        print(eggs)\n",
    "    return f2\n",
    "\n",
    "action = f1()\n",
    "action()"
   ]
  },
  {
   "cell_type": "code",
   "execution_count": 5,
   "metadata": {},
   "outputs": [
    {
     "name": "stdout",
     "output_type": "stream",
     "text": [
      "9\n",
      "27\n"
     ]
    }
   ],
   "source": [
    "def maker(spam):\n",
    "\tdef action(bacon):\n",
    "\t\tprint(bacon**spam)\n",
    "\treturn action\n",
    "\n",
    "f = maker(2)\n",
    "f(3)\n",
    "f = maker(3)\n",
    "f(3)"
   ]
  }
 ],
 "metadata": {
  "interpreter": {
   "hash": "e7370f93d1d0cde622a1f8e1c04877d8463912d04d973331ad4851f04de6915a"
  },
  "kernelspec": {
   "display_name": "Python 3.9.7 64-bit",
   "name": "python3"
  },
  "language_info": {
   "codemirror_mode": {
    "name": "ipython",
    "version": 3
   },
   "file_extension": ".py",
   "mimetype": "text/x-python",
   "name": "python",
   "nbconvert_exporter": "python",
   "pygments_lexer": "ipython3",
   "version": "3.9.7"
  },
  "orig_nbformat": 4
 },
 "nbformat": 4,
 "nbformat_minor": 2
}
