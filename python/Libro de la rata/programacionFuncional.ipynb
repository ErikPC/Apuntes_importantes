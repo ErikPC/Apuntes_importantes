{
 "cells": [
  {
   "cell_type": "markdown",
   "metadata": {},
   "source": [
    "# Herramientas de programacion funcional\n",
    "\n",
    "Python incluty un conjunto de incorporados utilizados para programacion: herramientas que aplican funciones a secuencias y otras iteraciones. Este conjunto incluye herramientas que llaman a funciones en los elementos de un iterable (map); filtrar elementos en funcion de una funcion de prueba(filter); y aplicar funciones a pares de elementos y resultados en ejecucion(reduce);\n",
    "\n"
   ]
  },
  {
   "cell_type": "markdown",
   "metadata": {},
   "source": [
    "## Map\n",
    "\n",
    "Las cosas más comunes que los programan hacen con listas y otras secuencias es aplicar una operacion para cada elemento.Ej actualizar los contadores de una lista con un for:"
   ]
  },
  {
   "cell_type": "code",
   "execution_count": 1,
   "metadata": {},
   "outputs": [
    {
     "data": {
      "text/plain": [
       "[11, 12, 13, 14]"
      ]
     },
     "execution_count": 1,
     "metadata": {},
     "output_type": "execute_result"
    }
   ],
   "source": [
    "counters = [1,2,3,4]\n",
    "\n",
    "updated=[]\n",
    "for x in counters:\n",
    "    updated.append(x+10)\n",
    "updated"
   ]
  },
  {
   "cell_type": "markdown",
   "metadata": {},
   "source": [
    "La funcion map aplica una funcion de paso a paso a cada elemento en un objeto iterable y devuelve una lista que contiene todos los resultados.Ej:"
   ]
  },
  {
   "cell_type": "code",
   "execution_count": 2,
   "metadata": {},
   "outputs": [
    {
     "data": {
      "text/plain": [
       "[11, 12, 13, 14]"
      ]
     },
     "execution_count": 2,
     "metadata": {},
     "output_type": "execute_result"
    }
   ],
   "source": [
    "def inc(x): return x + 10\n",
    "\n",
    "list(map(inc,counters))"
   ]
  },
  {
   "cell_type": "markdown",
   "metadata": {},
   "source": [
    "Aqui, hacemos un  uso más general de él, asigna llamadas inc  en cada elemento de la lista y recopila todos los valores devueltos en una nueva lista. Recuerda que map es un iterble en python 3.X."
   ]
  },
  {
   "cell_type": "markdown",
   "metadata": {},
   "source": [
    "Debido a que el map espera un funcion, tambien es uno de los lugares donde aparecen lambdas. Ej:"
   ]
  },
  {
   "cell_type": "code",
   "execution_count": 3,
   "metadata": {},
   "outputs": [
    {
     "data": {
      "text/plain": [
       "[4, 5, 6, 7]"
      ]
     },
     "execution_count": 3,
     "metadata": {},
     "output_type": "execute_result"
    }
   ],
   "source": [
    "list(map((lambda x: x + 3), counters))"
   ]
  },
  {
   "cell_type": "markdown",
   "metadata": {},
   "source": [
    "## Filter\n",
    "\n",
    "La funcion map es un representante primario y relativamente sencillo del conjunto de herramientas de programacion funcional de python, filter y reduce, seleccionan los elementos de un iterable en funcion de prueba y aplican funciones a los pares de elementos, respectivamente."
   ]
  },
  {
   "cell_type": "markdown",
   "metadata": {},
   "source": [
    "Debido a que tambien devuelve un iterable, el filtro (liked range) requiere una llamada a la lista para mostrar todos sus resultados. Ej la siguiente llamada de filter selecciona elementos de una secuencia que son mayores que cero:"
   ]
  },
  {
   "cell_type": "code",
   "execution_count": 4,
   "metadata": {},
   "outputs": [
    {
     "data": {
      "text/plain": [
       "[1, 2, 3, 4]"
      ]
     },
     "execution_count": 4,
     "metadata": {},
     "output_type": "execute_result"
    }
   ],
   "source": [
    "list(filter((lambda x: x > 0), range(-5,5)))"
   ]
  },
  {
   "cell_type": "markdown",
   "metadata": {},
   "source": [
    "## Reduce\n",
    "\n",
    "Reduce , acepta un iterable para procesar , pero no es un iterable en sí mismo: devuelve un solo resultado. Aqui hay dos llamadas de reduce que calculan la suma y un producto de los artículos de una lista."
   ]
  },
  {
   "cell_type": "code",
   "execution_count": 1,
   "metadata": {},
   "outputs": [
    {
     "name": "stdout",
     "output_type": "stream",
     "text": [
      "10\n"
     ]
    },
    {
     "data": {
      "text/plain": [
       "24"
      ]
     },
     "execution_count": 1,
     "metadata": {},
     "output_type": "execute_result"
    }
   ],
   "source": [
    "from functools import reduce\n",
    "\n",
    "print(reduce((lambda x, y: x + y), [1 ,2, 3, 4]))\n",
    "\n",
    "reduce((lambda x, y: x * y), [1, 2, 3, 4])"
   ]
  },
  {
   "cell_type": "markdown",
   "metadata": {},
   "source": [
    "En cada paso, redcue pasa la suma o el producto actual junto con el siguiente elemento de la lista, a la funcion lambda pasada. Este es el bucle equivalente:\n"
   ]
  },
  {
   "cell_type": "code",
   "execution_count": 5,
   "metadata": {},
   "outputs": [
    {
     "data": {
      "text/plain": [
       "[10]"
      ]
     },
     "execution_count": 5,
     "metadata": {},
     "output_type": "execute_result"
    }
   ],
   "source": [
    "L = [1, 2, 3, 4]\n",
    "res=[0]\n",
    "\n",
    "for x in L:\n",
    "    res[0]= res[0] + x\n",
    "res"
   ]
  },
  {
   "cell_type": "markdown",
   "metadata": {},
   "source": [
    "Codificar tu propia version del reduce es sencillo.La funcion emula la mayor parte del comportamiento integrado y ayuda a demitificar su funcionamiento en gerneral."
   ]
  },
  {
   "cell_type": "code",
   "execution_count": 7,
   "metadata": {},
   "outputs": [
    {
     "data": {
      "text/plain": [
       "120"
      ]
     },
     "execution_count": 7,
     "metadata": {},
     "output_type": "execute_result"
    }
   ],
   "source": [
    "def myreduce(function, sequence):\n",
    "    tally = sequence[0]\n",
    "    for next in sequence[1:]:\n",
    "        tally = function(tally, next)\n",
    "    return tally\n",
    "\n",
    "print(myreduce((lambda x,y: x+y), [1,2,3,4,5]))\n",
    "\n",
    "myreduce((lambda x,y:x*y),[1,2,3,4,5])\n",
    "\n"
   ]
  }
 ],
 "metadata": {
  "interpreter": {
   "hash": "cfe95937ddb6a1f206f1775878e1083883e3b1339c5afddfa94cac72e064ca5c"
  },
  "kernelspec": {
   "display_name": "Python 3.9.7 64-bit",
   "language": "python",
   "name": "python3"
  },
  "language_info": {
   "codemirror_mode": {
    "name": "ipython",
    "version": 3
   },
   "file_extension": ".py",
   "mimetype": "text/x-python",
   "name": "python",
   "nbconvert_exporter": "python",
   "pygments_lexer": "ipython3",
   "version": "3.9.7"
  },
  "orig_nbformat": 4
 },
 "nbformat": 4,
 "nbformat_minor": 2
}
