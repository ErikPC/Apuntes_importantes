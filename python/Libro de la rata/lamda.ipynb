{
 "cells": [
  {
   "cell_type": "markdown",
   "metadata": {},
   "source": [
    "# Lambda\n",
    "Expresion que crea una funcion a la que se llamará más adelante, pero devuelve el en lugar de asignarlo a un nombre."
   ]
  },
  {
   "cell_type": "markdown",
   "metadata": {},
   "source": [
    "## lambda basics\n",
    "\n",
    "La forma general de la lambda es la plabra clave lambda, seguida de uno o más argumento\n",
    "\n",
    "Los objetos de funcion devueltos al ejecutar expresiones lambda funcionan exactamente igual que los creados y asignados por defs, pero hay algunas diferencias que hacen lambdas útil en roles especializados:\n",
    "\n",
    "- lambda es una expresion, no una declaracion: se puede hacer referencia a las funciones por su nombre, pero debe crearse en otro lugar.Lambda devuelve un valor.\n",
    "- El cuerpo de lambda es una sola expresión, no un bloque de declaraciones: el cuerpo de la lambda es similar a lo que pondrías en la declaracion de retorno de un cuerpo def; debido a que se limita a una expresión\n",
    "\n",
    "Aparte de esas distinciones, defs y lambdas hacen lo mismo. Ej:"
   ]
  },
  {
   "cell_type": "code",
   "execution_count": 1,
   "metadata": {},
   "outputs": [
    {
     "data": {
      "text/plain": [
       "6"
      ]
     },
     "execution_count": 1,
     "metadata": {},
     "output_type": "execute_result"
    }
   ],
   "source": [
    "def func(x, y, z): return x + y + z\n",
    "\n",
    "func(1 ,2 ,3)"
   ]
  },
  {
   "cell_type": "markdown",
   "metadata": {},
   "source": [
    "Pero puede lograr el mismo efecto con una expresion lambda asigando explicitamente su resultado a un nombre a traves del cual más tarde puede llamar a la funcion"
   ]
  },
  {
   "cell_type": "code",
   "execution_count": 3,
   "metadata": {},
   "outputs": [
    {
     "data": {
      "text/plain": [
       "6"
      ]
     },
     "execution_count": 3,
     "metadata": {},
     "output_type": "execute_result"
    }
   ],
   "source": [
    "f = lambda x, y, z: x +y +z\n",
    "f(1, 2, 3)"
   ]
  },
  {
   "cell_type": "markdown",
   "metadata": {},
   "source": [
    "Aqui a f se le asigna el objeto de función que crea la expresión lambda; así es como tambien funciona def , pero de forma automatica."
   ]
  },
  {
   "cell_type": "markdown",
   "metadata": {},
   "source": [
    "Los valores predeterminados funcionan en argumentos lambda, al igual que en un def:"
   ]
  },
  {
   "cell_type": "code",
   "execution_count": 5,
   "metadata": {},
   "outputs": [
    {
     "data": {
      "text/plain": [
       "'hambaconsausage'"
      ]
     },
     "execution_count": 5,
     "metadata": {},
     "output_type": "execute_result"
    }
   ],
   "source": [
    "x = (lambda a='spam', b='bacon', c='sausage': a + b + c)\n",
    "x(\"ham\")"
   ]
  },
  {
   "cell_type": "markdown",
   "metadata": {},
   "source": [
    "El código de las lambdas tambien siguen las mimsas reglas de búsqueda de ámbito que el código dentro dfe un def.(LEGB)"
   ]
  },
  {
   "cell_type": "code",
   "execution_count": 9,
   "metadata": {},
   "outputs": [
    {
     "name": "stdout",
     "output_type": "stream",
     "text": [
      "Sir robin\n"
     ]
    },
    {
     "data": {
      "text/plain": [
       "<function __main__.knights.<locals>.<lambda>(x)>"
      ]
     },
     "execution_count": 9,
     "metadata": {},
     "output_type": "execute_result"
    }
   ],
   "source": [
    "def knights():\n",
    "    title = 'Sir'\n",
    "    action = (lambda x: title + ' ' + x)\n",
    "    return action\n",
    "act = knights()\n",
    "msg = act('robin')\n",
    "print(msg)\n",
    "\n",
    "act"
   ]
  },
  {
   "cell_type": "markdown",
   "metadata": {},
   "source": [
    "## Porque usar lambda\n",
    "\n",
    "Usaras construcciones de codificacion más simples ,que un def, en los que solo necesita incrustar pequeños bits de codigo ejecutable en línea en el lugar donde se va a utilizar.  "
   ]
  },
  {
   "cell_type": "markdown",
   "metadata": {},
   "source": [
    "lambda también se usa comunmente para codificar tablas de salto, que son listas o diccionarios de acciones que se realizan a pedido. Por ejemplo:"
   ]
  },
  {
   "cell_type": "code",
   "execution_count": 1,
   "metadata": {},
   "outputs": [
    {
     "name": "stdout",
     "output_type": "stream",
     "text": [
      "4\n",
      "8\n",
      "16\n",
      "9\n"
     ]
    }
   ],
   "source": [
    "L = [lambda x: x ** 2,\n",
    "    lambda x: x ** 3,\n",
    "    lambda x: x** 4]\n",
    "\n",
    "for f in L:\n",
    "    print(f(2))\n",
    "\n",
    "print(L[0](3))"
   ]
  },
  {
   "cell_type": "markdown",
   "metadata": {},
   "source": [
    "## Interruptores de derivación multivía: el final\n",
    "\n",
    "De hecho, puede hacer lo mismo con diccionatios y otras estructuras de datos. Aquí hay otro ejemplo para ilustrar, en el símbolo interactivo:"
   ]
  },
  {
   "cell_type": "code",
   "execution_count": 3,
   "metadata": {},
   "outputs": [
    {
     "data": {
      "text/plain": [
       "8"
      ]
     },
     "execution_count": 3,
     "metadata": {},
     "output_type": "execute_result"
    }
   ],
   "source": [
    "key = 'got'\n",
    "{'already' : (lambda: 2 + 2),\n",
    "'got': (lambda: 2 * 4),\n",
    "'one': (lambda: 2 ** 6)}[key]()"
   ]
  },
  {
   "cell_type": "markdown",
   "metadata": {},
   "source": [
    "## How (Not) to Obfuscate Your Python Code\n",
    "\n",
    "El cuerpo de una lambda tiene que ser una sola expresion.\n",
    "\n",
    "siguiente declaracion:"
   ]
  },
  {
   "cell_type": "code",
   "execution_count": null,
   "metadata": {},
   "outputs": [],
   "source": [
    "if a:\n",
    "    b\n",
    "else:\n",
    "    c"
   ]
  },
  {
   "cell_type": "markdown",
   "metadata": {},
   "source": [
    "puede ser emulado por cualquiera de estos expresiones aproximadamente equivalentes:"
   ]
  },
  {
   "cell_type": "code",
   "execution_count": null,
   "metadata": {},
   "outputs": [],
   "source": [
    "b if a else c\n",
    "((a and b)or c)"
   ]
  },
  {
   "cell_type": "markdown",
   "metadata": {},
   "source": [
    "Daod que expresiones como estas se pueden colocar dentro de una lambda, se pueden usar para implementar la lógica de selección dentro de una función lambda:"
   ]
  },
  {
   "cell_type": "code",
   "execution_count": 4,
   "metadata": {},
   "outputs": [
    {
     "data": {
      "text/plain": [
       "'aa'"
      ]
     },
     "execution_count": 4,
     "metadata": {},
     "output_type": "execute_result"
    }
   ],
   "source": [
    "lower = (lambda x, y: x if x < y else y)\n",
    "lower('bb', 'aa')\n",
    "lower('aa', 'bb')"
   ]
  },
  {
   "cell_type": "markdown",
   "metadata": {},
   "source": [
    "Además, si necesuras relizar bucles dentro de una lambda, también puede incrustar cosas como map y expresiones de comprensiones de listas:"
   ]
  },
  {
   "cell_type": "code",
   "execution_count": 7,
   "metadata": {},
   "outputs": [
    {
     "name": "stdout",
     "output_type": "stream",
     "text": [
      "spam\n",
      "toast\n",
      "egg\n"
     ]
    }
   ],
   "source": [
    "import sys\n",
    "showall = lambda x: list(map(print, x))\n",
    "t = showall(['spam', 'toast', 'egg'])"
   ]
  },
  {
   "cell_type": "code",
   "execution_count": 9,
   "metadata": {},
   "outputs": [
    {
     "name": "stdout",
     "output_type": "stream",
     "text": [
      "bright\n",
      "side\n",
      "of\n",
      "life\n"
     ]
    }
   ],
   "source": [
    "showall = lambda x: [sys.stdout.write(line) for line in x]\n",
    "t = showall(('bright\\n', 'side\\n', 'of\\n', 'life\\n'))"
   ]
  },
  {
   "cell_type": "code",
   "execution_count": 13,
   "metadata": {},
   "outputs": [
    {
     "name": "stdout",
     "output_type": "stream",
     "text": [
      "hola XxX_xXxbuenasXxX_xXx tardesXxX_xXx"
     ]
    }
   ],
   "source": [
    "showall = lambda x: [print(line, end='XxX_xXx') for line in x ]\n",
    "t = showall(('hola ','buenas',' tardes'))"
   ]
  },
  {
   "cell_type": "code",
   "execution_count": 15,
   "metadata": {},
   "outputs": [
    {
     "name": "stdout",
     "output_type": "stream",
     "text": [
      "hola buenas tardes"
     ]
    }
   ],
   "source": [
    "showall = lambda x: print (*x, sep='', end='')\n"
   ]
  },
  {
   "cell_type": "markdown",
   "metadata": {},
   "source": [
    "## Scopes: lambdas Can Be Nested Too\n",
    "\n",
    "Las lambdas son los principales beneficiarios de la búsqueda de ámbito de función anidada"
   ]
  },
  {
   "cell_type": "code",
   "execution_count": 18,
   "metadata": {},
   "outputs": [
    {
     "name": "stdout",
     "output_type": "stream",
     "text": [
      "<function action.<locals>.<lambda> at 0x000001F2952DF9D0>\n"
     ]
    },
    {
     "data": {
      "text/plain": [
       "78"
      ]
     },
     "execution_count": 18,
     "metadata": {},
     "output_type": "execute_result"
    }
   ],
   "source": [
    "def action(x):\n",
    "    return(lambda y: x + y)\n",
    "act = action(69)\n",
    "print(act)\n",
    "act(9)"
   ]
  },
  {
   "cell_type": "markdown",
   "metadata": {},
   "source": [
    "vamos a recodificar el def anterior con una lambda:"
   ]
  },
  {
   "cell_type": "code",
   "execution_count": 21,
   "metadata": {},
   "outputs": [
    {
     "name": "stdout",
     "output_type": "stream",
     "text": [
      "72\n"
     ]
    },
    {
     "data": {
      "text/plain": [
       "73"
      ]
     },
     "execution_count": 21,
     "metadata": {},
     "output_type": "execute_result"
    }
   ],
   "source": [
    "action = (lambda x: (lambda y: x + y))\n",
    "act = action(69)\n",
    "print(act(3))\n",
    "((lambda x:(lambda y: x + y))(69))(4)"
   ]
  }
 ],
 "metadata": {
  "interpreter": {
   "hash": "cfe95937ddb6a1f206f1775878e1083883e3b1339c5afddfa94cac72e064ca5c"
  },
  "kernelspec": {
   "display_name": "Python 3.9.7 64-bit",
   "language": "python",
   "name": "python3"
  },
  "language_info": {
   "codemirror_mode": {
    "name": "ipython",
    "version": 3
   },
   "file_extension": ".py",
   "mimetype": "text/x-python",
   "name": "python",
   "nbconvert_exporter": "python",
   "pygments_lexer": "ipython3",
   "version": "3.9.7"
  },
  "orig_nbformat": 4
 },
 "nbformat": 4,
 "nbformat_minor": 2
}
