{
 "cells": [
  {
   "cell_type": "markdown",
   "metadata": {},
   "source": [
    "# Array"
   ]
  },
  {
   "cell_type": "markdown",
   "metadata": {},
   "source": [
    "## Crear e inicializar Array"
   ]
  },
  {
   "cell_type": "markdown",
   "metadata": {},
   "source": [
    "### Casos basicos\n",
    "\n",
    "int[]   numbers1 = new int[3];______________________Array de 3 int values, por defecto el valor es 0\n",
    "\n",
    "int[]   numbers2 = { 1, 2, 3};______________________Array literal de 3 int values\n",
    "\n",
    "int[]   numbers3 = new int[] { 1, 2, 3 };___________Array de 3 int Values inicializada\n",
    "\n",
    "int[][] numbers6 = new int[5] [4];__________________Multidimensional array: 5x4"
   ]
  },
  {
   "cell_type": "markdown",
   "metadata": {},
   "source": [
    "#### Las array se pueden crear usanto tipo primitipo o referencia.\n",
    "\n",
    "float[] boats = new float[5]:__________Array de cinco 32-bit float point numeros.\n",
    "\n",
    "String[] theory = new String[] {\"a\", \"b\", \"c\"};__________Array de tres Strings (tipo referencia).\n",
    "\n",
    "Las array para los tipos definidos por el usuario tamién se pueden construir de manera similar a los tipos primitivos.\n",
    "\n",
    "UserDefinedClass[] udType = new UserDefinedClass[5];"
   ]
  }
 ],
 "metadata": {
  "language_info": {
   "name": "python"
  },
  "orig_nbformat": 4
 },
 "nbformat": 4,
 "nbformat_minor": 2
}
