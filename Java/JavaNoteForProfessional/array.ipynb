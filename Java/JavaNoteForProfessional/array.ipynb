{
 "cells": [
  {
   "cell_type": "markdown",
   "metadata": {},
   "source": [
    "# Array"
   ]
  },
  {
   "cell_type": "markdown",
   "metadata": {},
   "source": [
    "## Crear e inicializar Array"
   ]
  },
  {
   "cell_type": "markdown",
   "metadata": {},
   "source": [
    "### Casos basicos\n",
    "\n",
    "int[]   numbers1 = new int[3];______________________Array de 3 int values, por defecto el valor es 0\n",
    "\n",
    "int[]   numbers2 = { 1, 2, 3};______________________Array literal de 3 int values\n",
    "\n",
    "int[]   numbers3 = new int[] { 1, 2, 3 };___________Array de 3 int Values inicializada\n",
    "\n",
    "int[][] numbers6 = new int[5] [4];__________________Multidimensional array: 5x4"
   ]
  },
  {
   "cell_type": "markdown",
   "metadata": {},
   "source": [
    "#### Las array se pueden crear usanto tipo primitipo o referencia.\n",
    "\n",
    "float[] boats = new float[5]:__________Array de cinco 32-bit float point numeros.\n",
    "\n",
    "String[] theory = new String[] {\"a\", \"b\", \"c\"};__________Array de tres Strings (tipo referencia).\n",
    "\n",
    "Las array para los tipos definidos por el usuario tamién se pueden construir de manera similar a los tipos primitivos.\n",
    "\n",
    "UserDefinedClass[] udType = new UserDefinedClass[5];"
   ]
  },
  {
   "cell_type": "markdown",
   "metadata": {},
   "source": [
    "## Creando una List de una Array"
   ]
  },
  {
   "cell_type": "markdown",
   "metadata": {},
   "source": [
    "El metodo \"Arrays.asList()\" se puede usar para pasar a List el contenido de elemento que tiene una array "
   ]
  },
  {
   "cell_type": "markdown",
   "metadata": {},
   "source": [
    "```java\n",
    "String[] stringArray = {\"foo\", \"bar\", \"baz\"};\n",
    "List<String> stringList = Arrays.asList(stringArray);\n",
    "```"
   ]
  },
  {
   "cell_type": "markdown",
   "metadata": {},
   "source": [
    "Esta lista está respaldada por (una vista de) la matriz original, lo que significa que cualquier cambio en la lista cambiará la matriz y viceversa"
   ]
  },
  {
   "cell_type": "markdown",
   "metadata": {},
   "source": [
    "Para copiar de la lista, usa el constructor\n",
    "```java\n",
    "List<String> stringList = new ArrayList<String>(Arrays.asList(stringArray))\n",
    "```"
   ]
  },
  {
   "cell_type": "markdown",
   "metadata": {},
   "source": [
    "En JAVA SE 7 los brackets \"><\" son llamados Diamonds. La información de tipo se puede omitir al llamar al constructor de ArrayList y se deducirá automáticamente durante la compilación."
   ]
  },
  {
   "cell_type": "markdown",
   "metadata": {},
   "source": [
    "```java\n",
    "List<String> stringList = new ArrayList<>(Arrays.asList(stringArray));"
   ]
  },
  {
   "cell_type": "markdown",
   "metadata": {},
   "source": [
    "Usando ArrayList.addAll()\n",
    "\n",
    "```java\n",
    "String[] stringArray = {\"foo\", \"bar\", \"baz\"};\n",
    "ArrayList<String> list = new ArrayList<>();\n",
    "list.addAll(Arrays.asList(stringArray));\n",
    "\n",
    "```"
   ]
  },
  {
   "cell_type": "markdown",
   "metadata": {},
   "source": [
    "Udando Collections.addAll()\n",
    "```java\n",
    "String[] stringArray = {\"foo\", \"bar\", \"baz\"};\n",
    "ArrayList<String> list = new ArrayList<>();\n",
    "Collections.addAll(list, stringArray);\n",
    "```"
   ]
  },
  {
   "cell_type": "markdown",
   "metadata": {},
   "source": [
    "Usando Streams\n",
    "\n",
    "```java\n",
    "int[] ints = {1,2,3};\n",
    "List<Integer> list = Arrays.stream(ints).boxed().collect(Collectors.toList());\n",
    "```"
   ]
  },
  {
   "cell_type": "markdown",
   "metadata": {},
   "source": [
    "#### Notas importantes de usar Arrays.asList() \n",
    "\n",
    "- Este metodo devuelve una List , tamaño fijo no se encarga de añadir o eliminar elementos.\n",
    "- Una nueva List se puede crear usando el constructor de List, esto crea una copia de la informacion, que se podrá cambiar el tamaño y no se vera afectada la array original.\n",
    "\n",
    "Los tipos primitivos no puede ser usado en lugar de un tipo generico como parametro. Convierte el tipo primitivo array en la array correspondiente tipo de wrapper. Arrays.asList() en un Integer[] en lugar de int[].\n"
   ]
  },
  {
   "cell_type": "markdown",
   "metadata": {},
   "source": [
    "## Iterar sobre array\n",
    "\n",
    "Usar indice: leer y escribir\n",
    "\n",
    "```java\n",
    "for (int = i; i < array.length; i++){\n",
    "    array[i] = i;\n",
    "}\n",
    "```\n",
    "\n",
    "Solo leer\n",
    "```java\n",
    "for (int e : array){\n",
    "    System.out.println(e);;\n",
    "}\n",
    "```\n",
    "no hay una forma directa de usar un iterador en una matriz, pero a través de la biblioteca de matrices se puede convertir fácilmente en una lista para obtener un objeto iterable."
   ]
  }
 ],
 "metadata": {
  "language_info": {
   "name": "python"
  },
  "orig_nbformat": 4
 },
 "nbformat": 4,
 "nbformat_minor": 2
}
