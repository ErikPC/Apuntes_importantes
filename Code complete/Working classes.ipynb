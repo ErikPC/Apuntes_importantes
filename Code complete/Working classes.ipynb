{
 "cells": [
  {
   "cell_type": "markdown",
   "metadata": {},
   "source": [
    "# Working Classes\n",
    "\n",
    "Maximizar la parte de un programa que puede ignorar de forma segura mientras trabaja en cualquier seccion del código.\n"
   ]
  },
  {
   "cell_type": "markdown",
   "metadata": {},
   "source": [
    "## ADTs\n",
    "\n",
    "Un tipo de dato abstracto se realiza escribiendo un tipo especial de programa que define el tipo en términos de las operaciones que se pueden realizar en él."
   ]
  },
  {
   "cell_type": "markdown",
   "metadata": {},
   "source": [
    "### Class Foundations: Abstract Data Types (ADTs)\n",
    "\n",
    "Un tipo de dato abstracto es una coleccion de datos y operaciones que funcionan con eso datos. Las operaciones describen los datos el resto del programa y permiten que el resto del programa cambie los datos. Puedes usarlos para manipular entidades del mundo real en lugar de entidades de implementacion de bajo nivel."
   ]
  },
  {
   "cell_type": "markdown",
   "metadata": {},
   "source": [
    "### Benefits of using ADTs\n",
    "\n",
    "- Cree o use tipos de datos típos de datos de bajo nivel\n",
    "- Tratar objetos comunes como archivos como ADTs\n",
    "- Trata incluso los elementos simples como ADTs\n",
    "- Consulte un ADts independientemente del medio en el que esté almacenado"
   ]
  },
  {
   "cell_type": "markdown",
   "metadata": {},
   "source": [
    "### ADTs and Classes\n",
    "Los tipos de datos abstractos forman la base para el concepto de clases, puedes implementar cada tipo de datos abstractos en su propia clase. Una forma de pensar de una clase es como un tipo de datos abstracto más herencia y polimorfismo"
   ]
  },
  {
   "cell_type": "markdown",
   "metadata": {},
   "source": [
    "### Good Class interfaces\n",
    "\n",
    "Crear una buena abstraccion para que la interfaz represente y asegurar que los detalles permanezcan ocultos detrás de la abstraccion.\n",
    "\n",
    "#### Good abstraction\n",
    "\n",
    "La interfaz de la clase debe ofrecer un grupo de rutinas que claramente permanezcan juntas. Una clase que presenta una abstraccion pobre sería aquella que contuviera una coleccion de funcioes miscelaneas. Las rutinas deben reorganizarse en clases más enfocadas, cada una de las cuales proporciona una mejor abstraccion en su interfaz.\n",
    "\n",
    "Proporcionar servicios en parejas con sus opuestos. No crees un opesto gratuitamente.Realmente tienes dos clases enmascaradas de una. Pregunta \"¿Es esta rutina consistente por la interfaz existente?\"\n",
    "\n",
    "Considera la asbtraccion y la cohesion juntas.\n"
   ]
  },
  {
   "cell_type": "markdown",
   "metadata": {},
   "source": [
    "### Good Encapsulation.\n",
    "\n",
    "La abstraccion ayuda a administrar la complejidad al proporcionar modelos que le permiten ignorar los detalles de la implementación. La encapsulacion es el ejecutor que le impide mirar los detalles inclusio si lo desea o tienes abstraccion y encapsulacion o no tienes ninguna.\n",
    "\n",
    "Si una rutina especifica debe ser pública, privada o protegida, favorecer al nivel más estricto de privacidad que sea visible.\n",
    "\n",
    "¿Que es lo que mejor preserva la integridad de la interfaz?\n",
    "\n",
    "No expongas los datos de los miembros en publico.\n",
    "\n",
    "No debe hacer ninguna sposicion sobre cómo se usará o no esa interfaz, el código se lee muchas más veces de las que está escrito, incluso durante el desarrollo inicial.\n",
    "\n",
    "Sea muy , muy cauteloso con las violaciones semanticas de la encapsulacion.\n",
    "\n",
    "No es abstracto si tiene que mirar la implementacion subyacente para comprender lo que está sucediendo. Cada vez que te encuentre mirando la implementacion de una clase para descubrir como usar la clase, no estas programando en la interfaz; esta programando a través de la interfaz para la implementacion.\n",
    "    Si no puede averiguar como usar una clase basada únicamente en su documentación de interfaz, la respuesta correcta no es extraer el código fuente.\n",
    "\n",
    "acoplamiento se refiere a cuan estrecha es la conexion entre dos clases. En general , cuanto más suelta sea la conexion, mejor.\n",
    "\n",
    "- El acoplamiento estrecho ocurre cuando una abstraccion tiene fugas o cuando se rompe la encapsulacion\n",
    "-  Si una clase ofrece un cnjunto incompleto de servicios, es posible que otras rutinas necesiten leer o escribir sus datos internos derectamente."
   ]
  },
  {
   "cell_type": "markdown",
   "metadata": {},
   "source": [
    "### Design and implementation issues\n",
    "\n",
    "- Contención (\"tiene una\" relacion)\n",
    "- Herencia (\"es una\" realcion)"
   ]
  },
  {
   "cell_type": "markdown",
   "metadata": {},
   "source": [
    "##  CHECKLIST: Class Quality\n",
    "\n",
    "ADT(Abstract Data Types)\n",
    "\n",
    "- ¿ Ha pensado en las clases de su programa como tipo de datos abstractos y ha evaluado sus interfaces desde ese punto de vista?\n"
   ]
  },
  {
   "cell_type": "markdown",
   "metadata": {},
   "source": [
    "Abstraccion\n",
    "\n",
    "- ¿Tiene la clase un proposito central?\n",
    "- ¿Está bien nombrada la clase y su nombre , describe su propósito central?\n",
    "- ¿La interfaz de la clase presenta una abstracción consistente?\n",
    "\n",
    "- ¿La interfaz de la clase hace obvio cómo debe usar la clase?\n",
    "\n",
    "- ¿Es la interfaz de la clase lo suficientemente abstracta como para no tener que pensar en cómo se implementan sus servicios? ¿Puedes tratar la clase como una caja negra?\n",
    "\n",
    "- ¿Son los servicios de la clase lo suficientemente completos como para que otras clases no tengan que entrometerse con sus datos internos?\n",
    "\n",
    "- ¿Se ha sacado de la clase información no relacionada?\n",
    "\n",
    "- ¿Ha pensado en subdividir la clase en clases de componentes y la ha subdividido tanto como pueda?\n",
    "\n",
    "- ¿Está preservando la integridad de la interfaz de la clase a medida que modifica la clase?"
   ]
  },
  {
   "cell_type": "markdown",
   "metadata": {},
   "source": [
    "Encapsulacion\n",
    "\n",
    "- ¿La clase minimiza la accesibilidad a sus miembros?\n",
    "\n",
    "- ¿Evita la clase exponer los datos de los miembros?\n",
    "\n",
    "- ¿La clase oculta sus detalles de implementación de otras clases tanto como lo permite el lenguaje de programación?\n",
    "\n",
    "- ¿Evita la clase hacer suposiciones sobre sus usuarios, incluidas sus clases derivadas?\n",
    "\n",
    "- ¿Es la clase independiente de otras clases? ¿Está vagamente acoplado?\n"
   ]
  },
  {
   "cell_type": "markdown",
   "metadata": {},
   "source": [
    "Herencia\n",
    "\n",
    "- ¿Se usa la herencia solo para modelar relaciones \"es a\"?\n",
    "\n",
    "- ¿La documentación de la clase describe la estrategia de herencia?\n",
    "\n",
    "- ¿Las clases derivadas se adhieren al Principio de Sustitución de Liskov?\n",
    "\n",
    "- ¿Evitan las clases derivadas \"anular\" las rutinas no anulables?\n",
    "\n",
    "- ¿Son las interfaces, los datos y el comportamiento comunes lo más altos posible en el árbol de herencia?\n",
    "\n",
    "- ¿Los árboles de herencia son bastante poco profundos?\n",
    "\n",
    "- ¿Todos los miembros de datos de la clase base son privados en lugar de protegidos?"
   ]
  },
  {
   "cell_type": "markdown",
   "metadata": {},
   "source": [
    "Otras cuestiones de aplicación\n",
    "\n",
    "- ¿La clase contiene unos siete miembros de datos o menos?\n",
    "\n",
    "- ¿La clase minimiza las llamadas rutinarias directas e indirectas a otras clases?\n",
    "- ¿La clase colabora con otras clases solo en la medida en que sea absolutamente necesario?\n",
    "- ¿Se inicializan todos los datos de los miembros en el constructor?\n",
    "- ¿Está diseñada la clase para usarse como copias profundas en lugar de copias superficiales a menos que haya una razón medida para crear copias superficiales?"
   ]
  },
  {
   "cell_type": "markdown",
   "metadata": {},
   "source": [
    "Problemas específicos del idioma\n",
    "\n",
    "- ¿Ha investigado los problemas específicos del lenguaje para las clases en su lenguaje de programación específico?"
   ]
  }
 ],
 "metadata": {
  "language_info": {
   "name": "python"
  },
  "orig_nbformat": 4
 },
 "nbformat": 4,
 "nbformat_minor": 2
}
