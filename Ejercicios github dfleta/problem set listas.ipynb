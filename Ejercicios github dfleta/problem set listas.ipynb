{
 "cells": [
  {
   "cell_type": "markdown",
   "metadata": {},
   "source": [
    "## Problem set Listas Github dfleta\n",
    "\n",
    "### 3\n",
    "Defina un procedimiento, product_list, que tome como entrada una lista de números y devuelva un número que es el resultado de multiplicar todos esos números."
   ]
  },
  {
   "cell_type": "code",
   "execution_count": null,
   "metadata": {},
   "outputs": [],
   "source": [
    "def product_list(list):\n",
    "    numeros_multiplicados = 1\n",
    "    for number in list:\n",
    "        numeros_multiplicados *= number\n",
    "    return numeros_multiplicados\n",
    "\n",
    "print(product_list([9]))\n",
    "print(product_list([1,2,3,4]))\n",
    "print(product_list([]))\n",
    "\n"
   ]
  },
  {
   "cell_type": "markdown",
   "metadata": {},
   "source": [
    "### 4\n",
    "Defina un procedimiento, mas grande, que tome como entrada una lista de números positivos y devuelva el numero más grande en esa lista. Si la lista de entrada está vacía, la salida debe ser 0."
   ]
  },
  {
   "cell_type": "code",
   "execution_count": null,
   "metadata": {},
   "outputs": [],
   "source": [
    "def greatest(list):\n"
   ]
  }
 ],
 "metadata": {
  "interpreter": {
   "hash": "cfe95937ddb6a1f206f1775878e1083883e3b1339c5afddfa94cac72e064ca5c"
  },
  "kernelspec": {
   "display_name": "Python 3.9.7 64-bit",
   "language": "python",
   "name": "python3"
  },
  "language_info": {
   "codemirror_mode": {
    "name": "ipython",
    "version": 3
   },
   "file_extension": ".py",
   "mimetype": "text/x-python",
   "name": "python",
   "nbconvert_exporter": "python",
   "pygments_lexer": "ipython3",
   "version": "3.9.7"
  },
  "orig_nbformat": 4
 },
 "nbformat": 4,
 "nbformat_minor": 2
}
