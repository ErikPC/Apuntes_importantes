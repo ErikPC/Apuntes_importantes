{
 "cells": [
  {
   "cell_type": "markdown",
   "metadata": {},
   "source": [
    "# Domain Driven Design Glossary"
   ]
  },
  {
   "cell_type": "markdown",
   "metadata": {},
   "source": [
    "#### Aggregate\n",
    "\n",
    "Asignacion a un conjunto que tiene una relación"
   ]
  },
  {
   "cell_type": "markdown",
   "metadata": {},
   "source": [
    "#### Analysis pattern\n",
    "\n",
    "Conjunto de conceptos que representan un patron comun de modelo de empresa"
   ]
  },
  {
   "cell_type": "markdown",
   "metadata": {},
   "source": [
    "#### ASSERTIONS\n",
    "\n",
    "Es una declaracion de el estado en un determinado momento de un programa.\n",
    "\n",
    "Normalmente especifica el resultado de una operacion o una invariante."
   ]
  },
  {
   "cell_type": "markdown",
   "metadata": {},
   "source": [
    "#### Bounded Context\n",
    "\n",
    "Todos los particulares de un cierto dominio estan definidos de manera que todos los que trabajan en el proyecto entienden de manera clara y consistente a lo que se refieren."
   ]
  },
  {
   "cell_type": "markdown",
   "metadata": {},
   "source": [
    "#### Client\n",
    "\n",
    "Elemento del programa que llama a un elemento del programa usando sus utilidades."
   ]
  },
  {
   "cell_type": "markdown",
   "metadata": {},
   "source": [
    "#### Cohesion\n",
    "\n",
    "Agregacion logica y dependiente (Tiene que haber alta cohesion , significa Single Responsability Principle)"
   ]
  },
  {
   "cell_type": "markdown",
   "metadata": {},
   "source": [
    "#### Context\n",
    "\n",
    "Entorno lingüistico del que depende el sentido de una palabra, frase o fragmento determinado."
   ]
  },
  {
   "cell_type": "markdown",
   "metadata": {},
   "source": [
    "#### Context map\n",
    "\n",
    "Representacion del Bounded Context y sus relaciones."
   ]
  },
  {
   "cell_type": "markdown",
   "metadata": {},
   "source": [
    "#### Core domain\n",
    "\n",
    "La parte distintiva del modelo , centrada a lo que el usuario quiere y que diferencia a la aplicacion y le da valor"
   ]
  },
  {
   "cell_type": "markdown",
   "metadata": {},
   "source": [
    "#### Declarative design\n",
    "\n",
    "Una forma de programacion donde una descripcion precisa de propiedades controla el software."
   ]
  },
  {
   "cell_type": "markdown",
   "metadata": {},
   "source": [
    "#### design pattern\n",
    "\n",
    "Una descripcion de objetos y clases que comunican entre si que son personalizados para resolver un problema de diseño en un contexto particular."
   ]
  },
  {
   "cell_type": "markdown",
   "metadata": {},
   "source": [
    "#### Domain\n",
    "\n",
    "El contexto y el entorno de un determinado programa."
   ]
  },
  {
   "cell_type": "markdown",
   "metadata": {},
   "source": [
    "#### Domain expert\n",
    "\n",
    "Miembro del proyecto del software que cononce el dominio de la aplicacion."
   ]
  },
  {
   "cell_type": "markdown",
   "metadata": {},
   "source": [
    "#### Domain Layer\n",
    "\n",
    "La porcion de el diseño e implementacion responsable por el dominio logico."
   ]
  },
  {
   "cell_type": "markdown",
   "metadata": {},
   "source": [
    "#### Entity\n",
    "\n",
    "Objeto fundamental definido no por esos atributos, pero su continuidad e identidad"
   ]
  },
  {
   "cell_type": "markdown",
   "metadata": {},
   "source": [
    "#### Implicit concept\n",
    "\n",
    "Un concepto que es necesario para entender el significado de un modelo o diseño pero que nunca se meciona."
   ]
  },
  {
   "cell_type": "markdown",
   "metadata": {},
   "source": [
    "#### Invariant\n",
    "\n",
    "Elemento del diseño que no puede cambiar."
   ]
  },
  {
   "cell_type": "markdown",
   "metadata": {},
   "source": [
    "#### Iteracion\n",
    "\n",
    "Proceso en el cual un programa es mejorado repetidamente en pequeños pasos."
   ]
  },
  {
   "cell_type": "markdown",
   "metadata": {},
   "source": [
    "#### Layered architecture\n",
    "\n",
    "Una tecnica para separar las diferentes responsabilidades del sistema de software."
   ]
  }
 ],
 "metadata": {
  "language_info": {
   "name": "python"
  },
  "orig_nbformat": 4
 },
 "nbformat": 4,
 "nbformat_minor": 2
}
