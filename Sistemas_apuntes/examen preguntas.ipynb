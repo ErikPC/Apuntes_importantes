{
 "cells": [
  {
   "cell_type": "markdown",
   "metadata": {},
   "source": [
    "¿Con que comando, en Linux puedes crear un archivo?\n",
    "- touch nombre-archivo"
   ]
  },
  {
   "cell_type": "markdown",
   "metadata": {},
   "source": [
    "¿Que es un proceso?\n",
    "- Instrucciones que actualmente estan siendo ejecutadas por el procesador"
   ]
  },
  {
   "cell_type": "markdown",
   "metadata": {},
   "source": [
    "¿Que zonas existen en el flujo de trabajo git\n",
    "- working directory, index y head"
   ]
  },
  {
   "cell_type": "markdown",
   "metadata": {},
   "source": [
    "¿En Linux, con que comando puedo ver la ruta en la que estoy posicionado\n",
    "- pwd"
   ]
  },
  {
   "cell_type": "markdown",
   "metadata": {},
   "source": [
    "¿Como se llama el flujo de trabajo de Git donde sada desarrollador tiene un repositorio remoto a partit de uno base?\n",
    "- Fork"
   ]
  },
  {
   "cell_type": "markdown",
   "metadata": {},
   "source": [
    "En sistemas UNIX, introducioendo el comando \"cd\".\n",
    "- Vuelve al directorio de inicio"
   ]
  },
  {
   "cell_type": "markdown",
   "metadata": {},
   "source": [
    "Marca la respuesta incorrecta:\n",
    "- Homebrew solo pùede ser usado en macOS"
   ]
  },
  {
   "cell_type": "markdown",
   "metadata": {},
   "source": [
    "¿Cual de estas memorias tiene mayor velocidad de lectura?\n",
    "- Registro"
   ]
  },
  {
   "cell_type": "markdown",
   "metadata": {},
   "source": [
    "¿Que es un kernel?\n",
    "- Supervisa la organizacion de procesos y datos en segundo plano"
   ]
  },
  {
   "cell_type": "markdown",
   "metadata": {},
   "source": [
    "¿Que tipo de licencias existen en un SO?\n",
    "- Licencia GPL y EULA"
   ]
  },
  {
   "cell_type": "markdown",
   "metadata": {},
   "source": [
    "¿Que hace el comando git commit -dl?\n",
    "- no existe"
   ]
  },
  {
   "cell_type": "markdown",
   "metadata": {},
   "source": [
    "Si se quiere cambiar de rama, independientemente de que se cree una nueva o no. ¿Que comando se debe ejecutar?\n",
    "- git checkout rama\n",
    "- git switch rama\n",
    "- git checkout -b rama\n",
    "- Todas son correctas"
   ]
  },
  {
   "cell_type": "markdown",
   "metadata": {},
   "source": [
    "¿Que es ldplayer?\n",
    "- Un programa emulador de Android"
   ]
  },
  {
   "cell_type": "markdown",
   "metadata": {},
   "source": [
    "Cuando se habla de discos SSD, ¿cuál de estos comando da error?\n",
    "- cs C:Program Files\\Internet Explorer"
   ]
  },
  {
   "cell_type": "markdown",
   "metadata": {},
   "source": [
    "¿En que hay que fijarse en el momento de elegir una placa base para un ordenador?\n",
    "- El zócalo y chipset deben ser compatibles con la CPU y que el formato de la placa debe ser compatible con la caja"
   ]
  },
  {
   "cell_type": "markdown",
   "metadata": {},
   "source": [
    "¿En que conector se conectan las tarjetas gráficas)\n",
    "- PCIe"
   ]
  },
  {
   "cell_type": "markdown",
   "metadata": {},
   "source": [
    "Cual de estos comando no existe\n",
    "- whereami"
   ]
  },
  {
   "cell_type": "markdown",
   "metadata": {},
   "source": [
    "para configurar Git por primera vez hay que realizar\n",
    "- git config -global user-name \"...\"\n",
    "- git config -global user.email \"...\" "
   ]
  },
  {
   "cell_type": "markdown",
   "metadata": {},
   "source": [
    "Las funciones principales que se debe realizar un sistema operativo son las siguientes:\n",
    "- Administracion de procesos, administracion de recursos y administracion de memoria"
   ]
  },
  {
   "cell_type": "markdown",
   "metadata": {},
   "source": [
    "Indica cómo crear una rama llamada features\n",
    "- git branch features"
   ]
  },
  {
   "cell_type": "markdown",
   "metadata": {},
   "source": [
    "¿En que lugar se alojan los archivos \"comiteados\"?\n",
    "- En el Head"
   ]
  },
  {
   "cell_type": "markdown",
   "metadata": {},
   "source": [
    "¿Con que comando se añade un proyecto a control de versiones Git?\n",
    "- git clone \"url\"\n",
    "- git push\n",
    "- git add *\n",
    "- ninguna es correcta\n"
   ]
  },
  {
   "cell_type": "markdown",
   "metadata": {},
   "source": [
    "¿Que es un \"pull request\"?\n",
    "- Es la accion de validar un codigo que se va a mergear de una rama a otra"
   ]
  },
  {
   "cell_type": "markdown",
   "metadata": {},
   "source": [
    "¿Que hace \"git scheckout -b \"rama\"?\n",
    "- crea una rama y se posiciona en esta"
   ]
  },
  {
   "cell_type": "markdown",
   "metadata": {},
   "source": [
    "¿Que hace \"git remote add origin \"remoto\"\"?\n",
    "- conecta el repositorio local al repositorio remoto indicado"
   ]
  },
  {
   "cell_type": "markdown",
   "metadata": {},
   "source": [
    "En Linux ¿que hace el comando htop?\n",
    "- Muestra los procesos del ordenador de forma detallada e interactiva."
   ]
  },
  {
   "cell_type": "markdown",
   "metadata": {},
   "source": [
    "Que es el Gitflow\n",
    "- Es un workflow basado en la utilizacion de rama principales y de soporte\n",
    "- Es un modo de trabajar con ramas exclusivamente de Git\n",
    "- Es un workflow donde se utiliza git para desarrolar sofware\n",
    "- Todas son correctas"
   ]
  },
  {
   "cell_type": "markdown",
   "metadata": {},
   "source": [
    "¿Que es \"git rebase\"?\n",
    "- Mover o combinar una secuencia de confirmaciones a una nueva confirmacion base"
   ]
  },
  {
   "cell_type": "markdown",
   "metadata": {},
   "source": [
    "En Linux ¿que almacena el archivo passwd?\n",
    "- Contiene toda la informacion de los usuarios creados pero no esta encriptada."
   ]
  },
  {
   "cell_type": "markdown",
   "metadata": {},
   "source": [
    "¿Que es una maquina virtual?\n",
    "- Software que simula un sistema de computacion y se puede ejecutar programas"
   ]
  },
  {
   "cell_type": "markdown",
   "metadata": {},
   "source": [
    "¿ Con que comando Linux puedes ver la capacidad de una maquina?\n",
    "- lsblk"
   ]
  },
  {
   "cell_type": "markdown",
   "metadata": {},
   "source": [
    "Disponemos de un disco duro de 960GB. Determina su capacidad real\n",
    "- 864GiB"
   ]
  },
  {
   "cell_type": "markdown",
   "metadata": {},
   "source": [
    "Es propio de un sistema distribuido:\n",
    "- Equipos independientes actuando como uno unico"
   ]
  },
  {
   "cell_type": "markdown",
   "metadata": {},
   "source": [
    "Comando para renonbrar un archivo en Unix:\n",
    "- mv"
   ]
  },
  {
   "cell_type": "markdown",
   "metadata": {},
   "source": [
    "¿Cual de esos no  es un software de control de versiones?\n",
    "- BSD"
   ]
  },
  {
   "cell_type": "markdown",
   "metadata": {},
   "source": [
    "Si queremos conectarnos con VPS, ¿qué se debe hacer?\n",
    "- Update y upgrade\n",
    "- Comprobar la conexion\n",
    "- Instalar SSH\n",
    "- Todas son correctas"
   ]
  },
  {
   "cell_type": "markdown",
   "metadata": {},
   "source": [
    "¿Por cuanto deberemos dicidir para pasar de GiB a TiB?\n",
    "- 1024"
   ]
  },
  {
   "cell_type": "markdown",
   "metadata": {},
   "source": [
    "Cuando en Git nos encontramos con un merge conflict, ¿que pasos hay que seguir?\n",
    "- resolver manualmente los conflictos en los files y luego ejecturar git add -u y git commit -m \"...\""
   ]
  },
  {
   "cell_type": "markdown",
   "metadata": {},
   "source": [
    "¿Que formato de sistema de files usa macOS actualmente?\n",
    "- APFS"
   ]
  }
 ],
 "metadata": {
  "language_info": {
   "name": "python"
  },
  "orig_nbformat": 4
 },
 "nbformat": 4,
 "nbformat_minor": 2
}
